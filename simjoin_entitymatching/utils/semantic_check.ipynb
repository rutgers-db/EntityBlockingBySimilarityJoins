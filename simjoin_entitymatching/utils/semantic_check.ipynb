{
 "cells": [
  {
   "cell_type": "code",
   "execution_count": 9,
   "metadata": {},
   "outputs": [
    {
     "name": "stdout",
     "output_type": "stream",
     "text": [
      "corpus size : 4589, training time : 10.042770385742188\n"
     ]
    }
   ],
   "source": [
    "import gensim.models\n",
    "from gensim import utils\n",
    "import pandas as pd\n",
    "import numpy as np\n",
    "import time\n",
    "\n",
    "# read the fp results\n",
    "# too small corpus\n",
    "fp_tab = pd.read_csv(\"../../output/debug/false_positive_second.csv\")\n",
    "# feed entire tables\n",
    "tab_A = pd.read_csv(\"../../output/buffer/clean_A.csv\")\n",
    "tab_B = pd.read_csv(\"../../output/buffer/clean_B.csv\")\n",
    "\n",
    "l_title = tab_A[\"title\"].tolist()\n",
    "r_title = tab_B[\"title\"].tolist()\n",
    "fp_l_title = fp_tab[\"ltable_title\"].tolist()\n",
    "fp_r_title = fp_tab[\"rtable_title\"].tolist()\n",
    "\n",
    "# get corpus\n",
    "raw_text = l_title + r_title\n",
    "    \n",
    "# tokenize\n",
    "corpus = []\n",
    "for i, line in enumerate(raw_text):\n",
    "    toks = utils.simple_preprocess(line)\n",
    "    corpu = gensim.models.doc2vec.TaggedDocument(toks, [i])\n",
    "    corpus.append(corpu)\n",
    "    \n",
    "# train\n",
    "st = time.time()\n",
    "doc2vec = gensim.models.doc2vec.Doc2Vec(vector_size=128, min_count=2, epochs=40)\n",
    "doc2vec.build_vocab(corpus)\n",
    "doc2vec.train(corpus, total_examples=doc2vec.corpus_count, epochs=doc2vec.epochs)\n",
    "print(f\"corpus size : {len(corpus)}, training time : {time.time() - st}\")\n",
    "\n",
    "# prepare vectors\n",
    "pro_l_title = [utils.simple_preprocess(doc) for doc in fp_l_title]\n",
    "pro_r_title = [utils.simple_preprocess(doc) for doc in fp_r_title]\n",
    "vec_l_title = [doc2vec.infer_vector(doc) for doc in pro_l_title]\n",
    "vec_r_title = [doc2vec.infer_vector(doc) for doc in pro_r_title]\n",
    "    \n",
    "# new cosine\n",
    "new_cos_val = [np.dot(l_vec, r_vec) / (np.linalg.norm(l_vec) * np.linalg.norm(r_vec)) \\\n",
    "               for _, (l_vec, r_vec) in enumerate(zip(vec_l_title, vec_r_title))]\n",
    "\n",
    "# save to disk\n",
    "fp_tab[\"new_cosine\"] = new_cos_val\n",
    "fp_tab[\"diff_cosine\"] = fp_tab[\"cosine\"] - fp_tab[\"new_cosine\"]\n",
    "fp_tab.to_csv(\"../../output/debug/false_positive_second.csv\", index=False)"
   ]
  }
 ],
 "metadata": {
  "kernelspec": {
   "display_name": "Python 3",
   "language": "python",
   "name": "python3"
  },
  "language_info": {
   "codemirror_mode": {
    "name": "ipython",
    "version": 3
   },
   "file_extension": ".py",
   "mimetype": "text/x-python",
   "name": "python",
   "nbconvert_exporter": "python",
   "pygments_lexer": "ipython3",
   "version": "3.10.12"
  }
 },
 "nbformat": 4,
 "nbformat_minor": 2
}
