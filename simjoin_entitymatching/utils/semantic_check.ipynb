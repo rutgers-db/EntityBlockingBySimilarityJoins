{
 "cells": [
  {
   "cell_type": "code",
   "execution_count": null,
   "metadata": {},
   "outputs": [
    {
     "name": "stdout",
     "output_type": "stream",
     "text": [
      "recall : 0.5696969696969697\n",
      "precision : 0.11669770328988206\n",
      "F1 : 0.19371458011334367\n"
     ]
    }
   ],
   "source": [
    "import pandas as pd\n",
    "\n",
    "prev_tp = 374\n",
    "prev_tot = 3202\n",
    "tot_gold = 660\n",
    "K = 30\n",
    "\n",
    "second_tp_tab = pd.read_csv(\"../../output/debug/true_positive_second.csv\")\n",
    "second_fp_tab = pd.read_csv(\"../../output/debug/false_positive_second.csv\")\n",
    "second_tab = pd.concat([second_tp_tab, second_fp_tab], ignore_index=True)\n",
    "\n",
    "# sort\n",
    "second_tab = second_tab.sort_values(by=[\"cosine\"], ascending=False)\n",
    "slim_tab = second_tab.head(K)\n",
    "\n",
    "# calculate recall\n",
    "gold_tab = slim_tab[slim_tab[\"label\"] == 1]\n",
    "tp = prev_tp + len(gold_tab)\n",
    "tot = prev_tot + K\n",
    "\n",
    "# report\n",
    "recall = tp * 1.0 / tot_gold\n",
    "precision = tp * 1.0 / tot\n",
    "F1 = 2 * recall * precision / (recall + precision)\n",
    "\n",
    "print(f\"recall : {recall}\")\n",
    "print(f\"precision : {precision}\")\n",
    "print(f\"F1 : {F1}\")"
   ]
  },
  {
   "cell_type": "code",
   "execution_count": null,
   "metadata": {},
   "outputs": [
    {
     "name": "stdout",
     "output_type": "stream",
     "text": [
      "corpus size : 4589, training time : 10.042770385742188\n"
     ]
    },
    {
     "ename": "",
     "evalue": "",
     "output_type": "error",
     "traceback": [
      "\u001b[1;31mThe Kernel crashed while executing code in the current cell or a previous cell. \n",
      "\u001b[1;31mPlease review the code in the cell(s) to identify a possible cause of the failure. \n",
      "\u001b[1;31mClick <a href='https://aka.ms/vscodeJupyterKernelCrash'>here</a> for more info. \n",
      "\u001b[1;31mView Jupyter <a href='command:jupyter.viewOutput'>log</a> for further details."
     ]
    }
   ],
   "source": [
    "import gensim.models\n",
    "from gensim import utils\n",
    "import pandas as pd\n",
    "import numpy as np\n",
    "import time\n",
    "\n",
    "# read the fp results\n",
    "# too small corpus\n",
    "fp_tab = pd.read_csv(\"../../output/debug/false_positive_second.csv\")\n",
    "# feed entire tables\n",
    "tab_A = pd.read_csv(\"../../output/buffer/clean_A.csv\")\n",
    "tab_B = pd.read_csv(\"../../output/buffer/clean_B.csv\")\n",
    "\n",
    "l_title = tab_A[\"title\"].tolist()\n",
    "r_title = tab_B[\"title\"].tolist()\n",
    "fp_l_title = fp_tab[\"ltable_title\"].tolist()\n",
    "fp_r_title = fp_tab[\"rtable_title\"].tolist()\n",
    "\n",
    "# get corpus\n",
    "raw_text = l_title + r_title\n",
    "    \n",
    "# tokenize\n",
    "corpus = []\n",
    "for i, line in enumerate(raw_text):\n",
    "    toks = utils.simple_preprocess(line)\n",
    "    corpu = gensim.models.doc2vec.TaggedDocument(toks, [i])\n",
    "    corpus.append(corpu)\n",
    "    \n",
    "# train\n",
    "st = time.time()\n",
    "doc2vec = gensim.models.doc2vec.Doc2Vec(vector_size=128, min_count=2, epochs=40)\n",
    "doc2vec.build_vocab(corpus)\n",
    "doc2vec.train(corpus, total_examples=doc2vec.corpus_count, epochs=doc2vec.epochs)\n",
    "print(f\"corpus size : {len(corpus)}, training time : {time.time() - st}\")\n",
    "\n",
    "# prepare vectors\n",
    "pro_l_title = [utils.simple_preprocess(doc) for doc in fp_l_title]\n",
    "pro_r_title = [utils.simple_preprocess(doc) for doc in fp_r_title]\n",
    "vec_l_title = [doc2vec.infer_vector(doc) for doc in pro_l_title]\n",
    "vec_r_title = [doc2vec.infer_vector(doc) for doc in pro_r_title]\n",
    "    \n",
    "# new cosine\n",
    "new_cos_val = [np.dot(l_vec, r_vec) / (np.linalg.norm(l_vec) * np.linalg.norm(r_vec)) \\\n",
    "               for _, (l_vec, r_vec) in enumerate(zip(vec_l_title, vec_r_title))]\n",
    "\n",
    "# save to disk\n",
    "fp_tab[\"new_cosine\"] = new_cos_val\n",
    "fp_tab[\"diff_cosine\"] = fp_tab[\"cosine\"] - fp_tab[\"new_cosine\"]\n",
    "fp_tab.to_csv(\"../../output/debug/false_positive_second.csv\", index=False)"
   ]
  }
 ],
 "metadata": {
  "kernelspec": {
   "display_name": "Python 3",
   "language": "python",
   "name": "python3"
  },
  "language_info": {
   "codemirror_mode": {
    "name": "ipython",
    "version": 3
   },
   "file_extension": ".py",
   "mimetype": "text/x-python",
   "name": "python",
   "nbconvert_exporter": "python",
   "pygments_lexer": "ipython3",
   "version": "3.10.12"
  }
 },
 "nbformat": 4,
 "nbformat_minor": 2
}
